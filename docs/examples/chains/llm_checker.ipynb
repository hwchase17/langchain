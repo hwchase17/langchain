{
 "cells": [
  {
   "cell_type": "markdown",
   "metadata": {},
   "source": [
    "# LLMCheckerChain\n",
    "This notebook showcases how to use LLMCheckerChain."
   ]
  },
  {
   "cell_type": "code",
   "execution_count": 1,
   "metadata": {},
   "outputs": [],
   "source": [
    "from langchain.chains import LLMCheckerChain, LLMChain, SequentialChain, ParallelChain\n",
    "from langchain.llms import OpenAI\n",
    "from langchain.prompts.base import ListOutputParser\n",
    "from langchain.llms.base import LLM\n",
    "\n",
    "\n",
    "llm = OpenAI(temperature=0.7)\n",
    "\n",
    "text = \"What type of mammal lays the biggest eggs?\"\n",
    "\n",
    "checker_chain = LLMCheckerChain(llm=llm, verbose=True)\n",
    "\n",
    "# checker_chain.run(text)"
   ]
  },
  {
   "cell_type": "code",
   "execution_count": 100,
   "metadata": {},
   "outputs": [],
   "source": [
    "# flake8: noqa\n",
    "from langchain.prompts.prompt import PromptTemplate\n",
    "\n",
    "_CREATE_DRAFT_ANSWER_TEMPLATE = \"\"\"Question: {question}\n",
    "\n",
    "Answer: Let's think step by step. \"\"\"\n",
    "CREATE_DRAFT_ANSWER_PROMPT = PromptTemplate(\n",
    "    input_variables=[\"question\"], template=_CREATE_DRAFT_ANSWER_TEMPLATE\n",
    ")\n",
    "\n",
    "_LIST_ASSERTIONS_TEMPLATE = \"\"\"{statement}\n",
    "Make a bullet point list of the assumptions you made when producing the above statement.\\n\\n\"\"\"\n",
    "LIST_ASSERTIONS_PROMPT = PromptTemplate(\n",
    "    input_variables=[\"statement\"], template=_LIST_ASSERTIONS_TEMPLATE\n",
    ")\n",
    "\n",
    "_CHECK_ASSERTIONS_TEMPLATE = \"\"\"{assertions}\n",
    "Repeat the assertion above, and then determine if it is true or false. If it is false, explain why.\\n\\n\"\"\"\n",
    "CHECK_ASSERTIONS_PROMPT = PromptTemplate(\n",
    "    input_variables=[\"assertions\"], template=_CHECK_ASSERTIONS_TEMPLATE\n",
    ")\n",
    "\n",
    "_REVISED_ANSWER_TEMPLATE = \"\"\"{checked_assertions}\n",
    "\n",
    "Question: In light of the above assertions and checks, how would you answer the question '{question}'?\n",
    "\n",
    "The answer is: \"\"\"\n",
    "REVISED_ANSWER_PROMPT = PromptTemplate(\n",
    "    input_variables=[\"checked_assertions\", \"question\"],\n",
    "    template=_REVISED_ANSWER_TEMPLATE,\n",
    ")"
   ]
  },
  {
   "cell_type": "code",
   "execution_count": 101,
   "metadata": {},
   "outputs": [],
   "source": [
    "llm = OpenAI(temperature=0.7)\n",
    "\n",
    "create_draft_answer_chain = ParallelChain(\n",
    "    llm=llm, prompt=CREATE_DRAFT_ANSWER_PROMPT, output_key=\"statement\"\n",
    ")\n",
    "\n",
    "list_assertions_chain = ParallelChain(\n",
    "    llm=llm,\n",
    "    prompt=LIST_ASSERTIONS_PROMPT,\n",
    "    output_key=\"assertions\",\n",
    "    # This indicates that there are multiple outputs\n",
    "    output_parser=lambda x: [i.strip() for i in x.split(\"\\n\") if len(i.strip()) > 0],\n",
    ")\n",
    "\n",
    "check_assertions_chain = ParallelChain(\n",
    "    llm=llm, prompt=CHECK_ASSERTIONS_PROMPT, output_key=\"checked_assertions\"\n",
    ")\n",
    "\n",
    "revised_answer_chain = ParallelChain(\n",
    "    llm=llm,\n",
    "    prompt=REVISED_ANSWER_PROMPT,\n",
    "    output_key=\"revised_answer\",\n",
    "    # This indicates that there are multiple inputs\n",
    "    input_parser=lambda x: \"\\n\".join(x),\n",
    ")\n",
    "\n",
    "self_ask_verification_chain = SequentialChain(\n",
    "    chains=[\n",
    "        create_draft_answer_chain,\n",
    "        list_assertions_chain,\n",
    "        check_assertions_chain,\n",
    "        revised_answer_chain,\n",
    "    ],\n",
    "    input_variables=[\"question\"],\n",
    "    output_variables=[\"revised_answer\"],\n",
    "    verbose=True,\n",
    ")"
   ]
  },
  {
   "cell_type": "code",
   "execution_count": 102,
   "metadata": {},
   "outputs": [],
   "source": [
    "# %%time\n",
    "# self_ask_verification_chain.run(text)"
   ]
  },
  {
   "cell_type": "code",
   "execution_count": 124,
   "metadata": {},
   "outputs": [],
   "source": [
    "llm = OpenAI(temperature=0.7)\n",
    "\n",
    "create_draft_answer_chain = ParallelChain(\n",
    "    llm=llm, prompt=CREATE_DRAFT_ANSWER_PROMPT, output_key=\"statement\", n = 25\n",
    ")\n",
    "\n",
    "list_assertions_chain = ParallelChain(\n",
    "    llm=llm,\n",
    "    prompt=LIST_ASSERTIONS_PROMPT,\n",
    "    output_key=\"assertions\",\n",
    "    # This indicates that there are multiple outputs\n",
    "#     output_parser=lambda x: [i.strip() for i in x.split(\"\\n\") if len(i.strip()) > 0],\n",
    ")\n",
    "\n",
    "check_assertions_chain = ParallelChain(\n",
    "    llm=llm, prompt=CHECK_ASSERTIONS_PROMPT, output_key=\"checked_assertions\"\n",
    ")\n",
    "\n",
    "revised_answer_chain = ParallelChain(\n",
    "    llm=llm,\n",
    "    prompt=REVISED_ANSWER_PROMPT,\n",
    "    output_key=\"revised_answer\",\n",
    "    # This indicates that there are multiple inputs\n",
    "#     input_parser=lambda x: \"\\n\".join(x),\n",
    ")\n",
    "\n",
    "\n",
    "MOE_CONSENSUS_PROMPT = PromptTemplate(\n",
    "    input_variables=[\"revised_answer\", \"question\"],\n",
    "    template=\"\"\"{revised_answer}\n",
    "\n",
    "Question: A group of people each gave their answers above. Which answer best answers the question '{question}'?\n",
    "\n",
    "Answer: \"\"\",\n",
    ")\n",
    "\n",
    "moe_answer_chain = ParallelChain(\n",
    "    llm=llm,\n",
    "    prompt=MOE_CONSENSUS_PROMPT,\n",
    "    output_key=\"final_answer\",\n",
    "    # This indicates that there are multiple inputs\n",
    "    input_parser=lambda x: \"\\n -\" + \"\\n -\".join(x),\n",
    ")\n",
    "\n",
    "\n",
    "self_ask_verification_chain = SequentialChain(\n",
    "    chains=[\n",
    "        create_draft_answer_chain,\n",
    "        list_assertions_chain,\n",
    "        check_assertions_chain,\n",
    "        revised_answer_chain,\n",
    "        moe_answer_chain,\n",
    "    ],\n",
    "    input_variables=[\"question\"],\n",
    "    output_variables=[\"final_answer\"],\n",
    "    verbose=True,\n",
    ")"
   ]
  },
  {
   "cell_type": "code",
   "execution_count": 125,
   "metadata": {},
   "outputs": [
    {
     "name": "stdout",
     "output_type": "stream",
     "text": [
      "\n",
      "\n",
      "\u001b[1m> Entering new SequentialChain chain...\u001b[0m\n",
      "\u001b[1mChain 0\u001b[0m:\n",
      "{'statement': [' Mammals are animals that produce milk and have fur or hair.  The mammal that lays the biggest eggs is the elephant.  Elephants lay single eggs (ovoids) that weigh up to 11 pounds.', ' Mammals are warm-blooded animals with fur or hair, and that produce milk for their young.  The biggest eggs are laid by birds, not mammals.', ' Mammals lay eggs, but none of them lay really large eggs. The biggest eggs are laid by reptiles, birds, and fish, not mammals. Therefore, the answer is that no mammal lays the biggest eggs.', ' Mammals are warm-blooded, vertebrate animals that typically bear live young.  So, the answer to this question would not be a mammal, as mammals do not lay eggs.  The answer to this question would be a reptile, as reptiles lay the largest eggs of all animals.', \"\\n\\nFirst, let's consider which mammals lay eggs. Mammals that lay eggs include the platypus, echidna, and the spiny anteater.\\n\\nNext, let's look at the size of their eggs. The largest egg laid by any mammal belongs to the echidna, which can lay eggs up to 2.5 inches in diameter. The platypus lays eggs that are only around 0.75 inches in diameter, while the spiny anteater lays eggs that are between 0.43-0.75 inches in diameter.\\n\\nTherefore, the answer to the question is that the echidna lays the biggest eggs of any mammal.\", ' Mammals are warm-blooded animals, typically characterized by having hair or fur and giving birth to live young. This eliminates any birds, which lay eggs but do not give birth to live young.\\n\\nThe largest mammal egg is laid by the elephant. While the average elephant egg is the size of a ping-pong ball, the largest elephant egg on record was about the size of a grapefruit.', '\\n\\n1. Mammals are typically viviparous, meaning that they give birth to live young, rather than laying eggs. \\n\\n2. The only mammal that lays eggs is the echidna, also known as the spiny anteater. \\n\\n3. The echidna lays the largest eggs of any mammal, measuring about 1.4 inches (3.5 cm) in diameter.', \" Mammals are warm-blooded animals that nurse their young with milk, so they don't lay eggs. Therefore, the answer to this question is that no type of mammal lays the biggest eggs.\", ' Mammals are animals that give birth to live young and produce milk for their young. They do not lay eggs. Therefore, the answer to this question is that no type of mammal lays the biggest eggs.', ' Mammals are animals that are warm-blooded, have fur or hair, and produce milk for their young.  The largest eggs in the mammal family are laid by the elephant.  Elephant eggs, while they are still relatively small compared to other animals, are the largest eggs laid by any mammal.', '\\n\\n1. Mammals lay eggs, so we need to look at mammals that lay eggs. \\n\\n2. The mammals that lay eggs are monotremes, which are mammals that lay eggs instead of giving birth to live young. \\n\\n3. The monotreme that lays the biggest eggs is the echidna, or spiny anteater. The eggs of an echidna can be up to 2 inches in diameter, making them the biggest eggs laid by any mammal.', '\\n\\nMammals are warm-blooded animals with fur and mammary glands for feeding their young. The largest mammal egg-laying species is the echidna, also known as the spiny anteater. These animals, which are native to Australia and New Guinea, lay eggs that can reach up to 2.7 inches in length and 1.1 inches in diameter.', '\\n\\nMammals lay eggs, so the first step is to identify what type of mammal lays eggs. The only mammal that lays eggs is the monotreme, which includes the platypus and the echidna. \\n\\nThe platypus lays the biggest eggs, measuring up to 1.2 inches in diameter.', ' Mammals are animals that give birth to young and nurse their young with milk from mammary glands.  Therefore, the mammal that lays the biggest eggs would be an egg-laying mammal, or monotreme. Monotremes include the platypus and the echidna, and they lay the largest eggs of any mammal.', ' Mammals are animals that give birth to live young and produce milk for their young. The largest mammal egg belongs to the elephant, which can weigh up to 2.2 pounds.', ' Mammals are warm-blooded animals with fur and give birth to live young. The biggest eggs laid by a mammal would belong to the monotremes, which are a group of mammals that lay eggs instead of giving birth to live young. The two species of monotremes are the platypus and the echidna, and of these two species, the platypus lays the largest eggs.', '\\n\\nMammals are warm-blooded animals that feed their young with milk produced in their bodies.\\n\\nThe largest mammal egg is laid by the elephant. The largest elephant egg ever recorded weighed around 9 pounds.', ' Mammals are animals that are warm-blooded and have fur or hair. They give live birth to their young. The biggest egg laying mammal is the elephant. Elephants lay very large eggs, up to 13 inches in length and weighing up to 11 pounds.', ' First, what mammal is known for laying eggs? That would be a monotreme, or egg-laying mammal.  Examples of monotremes include the duck-billed platypus and the echidna.  Of these two, the echidna lays the biggest egg, with a diameter of 2-3 cm.', '\\n\\nFirst, we need to determine what type of mammal lays eggs. The only mammal that lays eggs is the monotreme, which includes the platypus and the echidna. \\n\\nSecond, we need to determine which species lays the biggest eggs. The biggest egg laid by a monotreme is the echidna egg, which can be up to 10 times bigger than a platypus egg. \\n\\nTherefore, the type of mammal that lays the biggest eggs is the echidna.', '\\n\\nFirst, mammals are a type of animal that gives birth to live young, rather than laying eggs. Therefore, the answer to this question is that no type of mammal lays the biggest eggs.', ' Mammals are warm-blooded animals that feed their young with milk produced by mammary glands.  The largest mammals are whales.  However, whales do not lay eggs, so they are not the correct answer.  The biggest egg-laying mammal is the platypus.  Platypus eggs are about 2 cm in diameter, making them the largest eggs laid by any mammal.', ' Mammals are animals that give birth to live young, so the answer would have to be a mammal that gives birth to live young and lays eggs. The answer is the echidna, a spiny anteater that lives in Australia and New Guinea. Echidnas lay the biggest eggs of any mammal, with a single egg measuring up to 3.2 cm in length and weighing around 8-12 g.', ' Mammals lay eggs, so the answer to this question would be a mammal that lays the biggest eggs. The largest mammal that lays eggs is the elephant. Elephants lay the largest eggs of any mammal, measuring up to 12 inches in length and weighing up to 2.2lbs.', ' Mammals are warm-blooded animals that give birth to live young and typically have fur or hair.  The biggest egg-laying mammal is the African elephant. Elephants lay a single egg, which is the largest single egg of any mammal.']}\n",
      "\n",
      "\u001b[1mChain 1\u001b[0m:\n",
      "{'assertions': ['\\n• Mammals produce milk and have fur or hair\\n• Elephant lays the biggest eggs\\n• Elephant eggs are ovoid in shape\\n• Elephant eggs weigh up to 11 pounds', '• Mammals are warm-blooded\\n• Mammals have fur/hair\\n• Mammals produce milk for their young\\n• Biggest eggs are laid by birds, not mammals', '\\n- Mammals do not lay large eggs\\n- Reptiles, birds, and fish lay the biggest eggs\\n- No mammal lays the biggest eggs', '\\n• Mammals are warm-blooded, vertebrate animals\\n• Mammals typically bear live young\\n• Reptiles lay the largest eggs of all animals', '\\n• Assumed that \"biggest\" refers to the size of the egg, not to the number of eggs laid\\n• Assumed that the sizes of the eggs are consistent across all species \\n• Assumed that the size of the egg is measured in inches', '\\n- Mammals are warm-blooded animals \\n- Mammals typically have hair or fur \\n- Mammals give birth to live young \\n- Birds lay eggs, not give birth to live young \\n- Elephant lays the largest mammal egg \\n- Average elephant egg is the size of a ping-pong ball \\n- Largest elephant egg on record was about the size of a grapefruit', \"\\n• Mammals are generally viviparous \\n• The echidna is an exception \\n• The echidna lays eggs \\n• The size of the echidna's egg is about 1.4 inches (3.5 cm) in diameter\", \"\\n• Mammals are warm-blooded animals \\n• Mammals nurse their young with milk \\n• Mammals don't lay eggs \\n• No type of mammal lays the biggest eggs\", '\\n• Mammals give birth to live young \\n• Mammals produce milk for their young \\n• Mammals do not lay eggs \\n• No type of mammal lays the biggest eggs', '• Mammals are warm-blooded\\n• Mammals have fur or hair\\n• Mammals produce milk for their young\\n• Elephant eggs are the largest eggs laid by any mammal', '\\n• All mammals reproduce with live young \\n• Monotremes are a group of mammals that lay eggs \\n• Echidnas are the largest monotreme \\n• Echidna eggs can be up to 2 inches in diameter', '\\n• Mammals are warm-blooded animals\\n• Mammals have fur\\n• Mammals have mammary glands for feeding their young\\n• The largest mammal egg-laying species is the echidna\\n• The echidna is also known as the spiny anteater\\n• The echidna is native to Australia and New Guinea\\n• Echidna eggs can reach up to 2.7 inches in length and 1.1 inches in diameter', '\\n• Assumed that only one type of mammal lays eggs \\n• Assumed that the platypus and echidna are both members of the monotreme family \\n• Assumed that the platypus lays the largest eggs among monotremes \\n• Assumed that the size of the platypus eggs is up to 1.2 inches in diameter', '\\n• Mammals give birth to live young \\n• Mammals nurse their young with milk from mammary glands \\n• Egg-laying mammals exist \\n• Monotremes are egg-laying mammals \\n• Platypus and echidna are examples of monotremes \\n• Monotremes lay the largest eggs of any mammal', '\\n- Mammals give birth to live young.\\n- Mammals produce milk for their young.\\n- Elephant eggs are the largest of all mammal eggs.\\n- Elephant eggs can weigh up to 2.2 pounds.', '\\n• Mammals are warm-blooded animals with fur.\\n• Mammals give birth to live young.\\n• Monotremes are a group of mammals that lay eggs instead of giving birth to live young.\\n• Platypus and echidna are the two species of monotremes.\\n• Platypus lays the largest eggs of the two species.', '\\n• Mammals are warm-blooded animals\\n• Mammals produce milk to feed their young\\n• The elephant lays the largest mammal egg\\n• The largest elephant egg ever recorded weighed around 9 pounds', '\\n• Mammals are warm-blooded animals\\n• Mammals have fur or hair\\n• Mammals give live birth to their young\\n• The biggest egg-laying mammal is the elephant \\n• Elephant eggs are large, up to 13 inches in length and weighing up to 11 pounds', '\\n• Monotremes are the only mammals that lay eggs\\n• Examples of monotremes include the duck-billed platypus and the echidna\\n• The echidna lays the biggest egg of the two examples\\n• The diameter of an echidna egg is 2-3 cm', '\\n• I assumed that the only type of mammal that lays eggs is the monotreme. \\n• I assumed that the biggest egg laid by a monotreme is the echidna egg. \\n• I assumed that the echidna egg is bigger than a platypus egg.', '\\n• Mammals give birth to live young\\n• Mammals do not lay eggs\\n• No type of mammal lays the biggest eggs', '• Mammals are warm-blooded animals\\n• Mammals feed their young with milk produced by mammary glands\\n• The largest mammal is a whale\\n• Whales do not lay eggs\\n• The biggest egg-laying mammal is the platypus\\n• Platypus eggs are about 2 cm in diameter', '\\n• Assumed that the question was asking for a type of mammal that gives birth to live young and lays eggs\\n• Assumed that the answer had to be a mammal\\n• Assumed that the mammal could be found in Australia and New Guinea\\n• Assumed that the mammal lays eggs that are relatively large compared to other mammals', '\\n• Assumed that a mammal lays eggs\\n• Assumed that the question was asking for the mammal that lays the largest egg\\n• Assumed that the largest egg-laying mammal is the elephant', \"• Mammals give birth to live young\\n• Mammals typically have fur or hair\\n• The biggest egg-laying mammal is the African elephant\\n• African elephants lay a single egg \\n• The African elephant's egg is the largest single egg of any mammal\"]}\n",
      "\n"
     ]
    },
    {
     "name": "stdout",
     "output_type": "stream",
     "text": [
      "\u001b[1mChain 2\u001b[0m:\n",
      "{'checked_assertions': ['Mammals produce eggs and have fur or hair. False. Mammals do not produce eggs, only birds and reptiles do. Mammals do, however, produce milk and have fur or hair.', 'Assertion: Mammals lay the biggest eggs.\\nFalse. Mammals do not lay eggs. Birds lay the biggest eggs, not mammals.', 'The assertion is: No mammal lays the biggest eggs. This statement is true, as mammals do not lay large eggs. Reptiles, birds, and fish lay the biggest eggs.', '\\nThe assertion: Mammals lay the largest eggs of all animals\\n\\nThis assertion is false. Reptiles lay the largest eggs of all animals, not mammals. Mammals typically bear live young, while reptiles lay eggs.', 'Assertion: The ostrich lays the biggest egg of any bird species.\\n\\nFalse: The ostrich lays the largest egg of any bird species, measuring up to 6 inches long, but the largest egg of any bird species is actually laid by the elephant bird, which can lay eggs up to 12 inches long.', 'The assertion: Elephant lays the largest mammal egg.\\n\\nThis is false. The largest mammal egg is actually laid by a species of whale called the northern bottlenose whale.', \"The echidna lays eggs, which is true. The size of the echidna's egg is about 1.4 inches (3.5 cm) in diameter, which is also true.\", '\\nAssertion: All mammals lay the biggest eggs. \\nAnswer: False. No type of mammal lays eggs; only birds, reptiles, and some fish lay eggs.', 'Assertion: No type of mammal lays the biggest eggs.\\n\\nFalse. No type of mammal lays eggs; they give birth to live young.', '\\nAssertion: Elephant eggs are the largest eggs laid by any mammal.\\nAnswer: False. Elephant eggs are not the largest eggs laid by any mammal; the eggs laid by the Ocean Sunfish are the largest eggs laid by any mammal.', 'All mammals reproduce by laying eggs. False. Monotremes are the only group of mammals that lay eggs; all other mammals reproduce with live young.', '\\nThe largest mammal egg-laying species is the echidna - True. The echidna is the largest mammal species that lays eggs, native to Australia and New Guinea.', 'Assertion: The platypus lays the largest eggs among monotremes.\\n\\nFalse. The largest eggs among monotremes are laid by the echidna, which can measure up to 2 inches in diameter.', 'The assertion is: Monotremes lay the largest eggs of any mammal.\\n\\nThis statement is false. While monotremes do lay eggs, they do not lay the largest eggs of any mammal. Ostriches lay the largest eggs of any mammal.', '\\nElephants lay the largest of all mammal eggs.\\nFalse. Reptiles lay the largest of all mammal eggs. Mammals, such as elephants, lay the largest of all mammal eggs, but they are still smaller than the eggs of reptiles.', '\\nMammals lay eggs instead of giving birth to live young. FALSE. Monotremes are a group of mammals that lay eggs instead of giving birth to live young. All other mammals give birth to live young.', 'The assertion is: The elephant lays the largest mammal egg.\\n\\nThis assertion is false. The elephant does not lay the largest mammal egg; the whale shark lays the largest mammal egg, which is known as a “mermaid’s purse”. The largest elephant egg ever recorded weighed around 9 pounds, while the largest whale shark egg can weigh up to 50 pounds.', '\\nAssertion: Mammals lay eggs.\\n\\nFalse. Mammals give live birth to their young, not lay eggs. The only egg-laying mammal is the monotreme, which includes the platypus and echidna.', 'The assertion is: The echidna lays the biggest egg of the two examples. This is true, as the echidna lays eggs that are larger than the eggs laid by the duck-billed platypus, which have a diameter of approximately 1 cm.', '\\nI assumed that the biggest egg laid by a monotreme is the echidna egg and that the echidna egg is bigger than a platypus egg. This is false, as the platypus lays eggs that are larger than those of the echidna.', 'Assertion: Mammals lay the biggest eggs.\\nFalse. Mammals do not lay eggs at all; they give birth to live young.', 'Mammals lay eggs, which is false. Mammals nourish their young with milk produced by mammary glands, and do not lay eggs like some other animals such as birds and reptiles.', 'Assertion: The duck-billed platypus is a type of mammal that gives birth to live young and lays eggs found in Australia and New Guinea that are relatively large compared to other mammals.\\n\\nFalse. While the duck-billed platypus is a type of mammal, they do not give birth to live young. They lay eggs that are relatively large compared to other mammals found in Australia and New Guinea.', 'Assertion: The largest egg-laying mammal is the elephant.\\nFalse. The largest egg-laying mammal is actually the echidna, a type of monotreme native to Australia, New Zealand, and other parts of the Pacific region. Elephants do not lay eggs.', 'The assertion that African elephants lay a single egg is false. African elephants do not lay eggs, they give birth to live young.']}\n",
      "\n",
      "\u001b[1mChain 3\u001b[0m:\n",
      "{'revised_answer': [' None. Mammals do not lay eggs; only birds and reptiles do.', ' No mammal lays the biggest eggs. Birds lay the biggest eggs.', ' No mammal lays the biggest eggs.', ' No mammal lays the biggest eggs; reptiles lay the largest eggs of all animals.', ' The elephant bird, which is a species of large, flightless bird native to Madagascar.', ' The northern bottlenose whale lays the biggest mammal eggs.', '\\nThe elephant lays the biggest eggs, since they are typically around 4 inches (10 cm) in diameter.', ' None. No type of mammal lays eggs; only birds, reptiles, and some fish lay eggs.', ' No type of mammal lays eggs; they give birth to live young.', ' The Ocean Sunfish lays the biggest eggs of any mammal.', ' Monotremes lay the biggest eggs of any mammal species.', ' The echidna is the largest mammal species that lays eggs.', ' The echidna lays the largest eggs among mammals.', ' Ostriches lay the largest eggs of any mammal.', ' Elephants lay the largest of all mammal eggs.', ' Monotremes lay the biggest eggs of any mammal. Monotremes are a group of mammals that lay eggs instead of giving birth to live young. The largest monotreme egg is laid by the echidna and is about the size of a ping-pong ball.', ' The whale shark lays the largest mammal egg, which is known as a “mermaid’s purse”.', '\\nThe monotreme, which includes the platypus and echidna, is the only type of mammal that lays eggs, and these eggs are the largest of any mammal species.', ' The echidna lays the biggest eggs of the two examples, with a diameter of approximately 4 cm.', '\\nThe platypus lays the biggest eggs among the monotremes (egg-laying mammals).', ' None. Mammals do not lay eggs at all; they give birth to live young.', ' None. Mammals do not lay eggs.', ' The duck-billed platypus is a type of mammal that lays the biggest eggs, found in Australia and New Guinea.', ' The echidna, a type of monotreme native to Australia, New Zealand, and other parts of the Pacific region, lays the biggest eggs.', '\\nNone. Mammals do not lay eggs, only certain species of reptiles and birds lay eggs.']}\n",
      "\n",
      "\u001b[1mChain 4\u001b[0m:\n",
      "{'final_answer': [' The echidna, a type of monotreme native to Australia, New Zealand, and other parts of the Pacific region, lays the biggest eggs.']}\n",
      "\n",
      "\n",
      "\u001b[1m> Finished SequentialChain chain.\u001b[0m\n",
      "CPU times: user 1.61 s, sys: 281 ms, total: 1.89 s\n",
      "Wall time: 12.3 s\n"
     ]
    },
    {
     "data": {
      "text/plain": [
       "[' The echidna, a type of monotreme native to Australia, New Zealand, and other parts of the Pacific region, lays the biggest eggs.']"
      ]
     },
     "execution_count": 125,
     "metadata": {},
     "output_type": "execute_result"
    }
   ],
   "source": [
    "%%time\n",
    "self_ask_verification_chain.run(\"What type of mammal lays the biggest eggs?\")"
   ]
  },
  {
   "cell_type": "code",
   "execution_count": 121,
   "metadata": {},
   "outputs": [],
   "source": [
    "llm = OpenAI(temperature=0.7)"
   ]
  },
  {
   "cell_type": "code",
   "execution_count": 122,
   "metadata": {},
   "outputs": [
    {
     "name": "stdout",
     "output_type": "stream",
     "text": [
      "CPU times: user 9.63 ms, sys: 2.74 ms, total: 12.4 ms\n",
      "Wall time: 2.37 s\n"
     ]
    }
   ],
   "source": [
    "%%time\n",
    "question = \"\"\"Question: What type of mammal lays the biggest eggs?\n",
    "\n",
    "Answer: Let's think step by step.\"\"\"\n",
    "results = llm(question, best_of=25, n = 5)"
   ]
  },
  {
   "cell_type": "code",
   "execution_count": 123,
   "metadata": {},
   "outputs": [
    {
     "name": "stdout",
     "output_type": "stream",
     "text": [
      "0\n"
     ]
    },
    {
     "data": {
      "text/plain": [
       "{'revised_answer': [' What type of animal lays eggs? Birds. What type of bird lays the biggest eggs? The ostrich. Therefore, the type of mammal that lays the biggest eggs is the ostrich.',\n",
       "  ' All mammals give birth to live young, so none of them lay eggs. Therefore, the correct answer is that no type of mammal lays eggs.',\n",
       "  ' The biggest eggs are laid by a bird, not a mammal. The largest bird egg is laid by the ostrich, which is a type of bird.',\n",
       "  ' Mammals are animals that give birth to live young and nurse their young with milk. Since mammals do not lay eggs, the answer to this question is none.',\n",
       "  \" Mammals lay eggs, so the mammal we're looking for is one that lays eggs. The biggest eggs would be laid by the mammal with the largest body size. The mammal that lays the biggest eggs is the elephant.\"],\n",
       " 'question': \"Question: What type of mammal lays the biggest eggs?\\n\\nAnswer: Let's think step by step.\",\n",
       " 'final_answer': [' The biggest eggs are laid by a bird, not a mammal. The largest bird egg is laid by the ostrich, which is a type of bird. Mammals are animals that give birth to live young and nurse their young with milk. Since mammals do not lay eggs, the answer to this question is none.']}"
      ]
     },
     "execution_count": 123,
     "metadata": {},
     "output_type": "execute_result"
    }
   ],
   "source": [
    "print(sum([int('echidna' in r.lower()) for r in results]))\n",
    "moe_answer_chain({'revised_answer': results, 'question': question})"
   ]
  },
  {
   "cell_type": "code",
   "execution_count": 9,
   "metadata": {},
   "outputs": [],
   "source": [
    "# %%time\n",
    "# self_ask_verification_chain.run(\"Where did Sheryl Sandberg meet Mark Zuckerberg?\")"
   ]
  }
 ],
 "metadata": {
  "kernelspec": {
   "display_name": "Python 3 (ipykernel)",
   "language": "python",
   "name": "python3"
  },
  "language_info": {
   "codemirror_mode": {
    "name": "ipython",
    "version": 3
   },
   "file_extension": ".py",
   "mimetype": "text/x-python",
   "name": "python",
   "nbconvert_exporter": "python",
   "pygments_lexer": "ipython3",
   "version": "3.10.3"
  },
  "vscode": {
   "interpreter": {
    "hash": "835c5a3474ba15827099fbeed14c7b6bc5170ce5ee26bc4cbb835d67e8a2e3b8"
   }
  }
 },
 "nbformat": 4,
 "nbformat_minor": 4
}
