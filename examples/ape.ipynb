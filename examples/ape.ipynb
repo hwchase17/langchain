{
 "cells": [
  {
   "cell_type": "code",
   "execution_count": 5,
   "id": "081420ea",
   "metadata": {},
   "outputs": [],
   "source": [
    "words = [\"sane\", \"direct\", \"informally\", \"unpopular\", \"subtractive\", \"nonresidential\",\n",
    "         \"inexact\", \"uptown\", \"incomparable\", \"powerful\", \"gaseous\", \"evenly\", \"formality\",\n",
    "         \"deliberately\", \"off\"]\n",
    "antonyms = [\"insane\", \"indirect\", \"formally\", \"popular\", \"additive\", \"residential\",\n",
    "            \"exact\", \"downtown\", \"comparable\", \"powerless\", \"solid\", \"unevenly\", \"informality\",\n",
    "            \"accidentally\", \"on\"]\n",
    "data = (words, antonyms)"
   ]
  },
  {
   "cell_type": "code",
   "execution_count": 6,
   "id": "6c7c00b7",
   "metadata": {},
   "outputs": [],
   "source": [
    "examples = [f\"INPUT: {i}\\nOUTPUT: {j}\" for i, j in zip(words, antonyms)]"
   ]
  },
  {
   "cell_type": "code",
   "execution_count": 2,
   "id": "70d4ea31",
   "metadata": {},
   "outputs": [],
   "source": [
    "from langchain.chains.ape.base import APEChain\n",
    "from langchain.llms import OpenAI"
   ]
  },
  {
   "cell_type": "code",
   "execution_count": 3,
   "id": "f64829c4",
   "metadata": {},
   "outputs": [],
   "source": [
    "llm = OpenAI()"
   ]
  },
  {
   "cell_type": "code",
   "execution_count": 4,
   "id": "0663e721",
   "metadata": {},
   "outputs": [],
   "source": [
    "chain = APEChain(llm=llm)"
   ]
  },
  {
   "cell_type": "code",
   "execution_count": 7,
   "id": "4d65f1ee",
   "metadata": {},
   "outputs": [
    {
     "data": {
      "text/plain": [
       "' reverse the input.'"
      ]
     },
     "execution_count": 7,
     "metadata": {},
     "output_type": "execute_result"
    }
   ],
   "source": [
    "chain.ape(examples)"
   ]
  },
  {
   "cell_type": "code",
   "execution_count": null,
   "id": "3bd0bd06",
   "metadata": {},
   "outputs": [],
   "source": []
  }
 ],
 "metadata": {
  "kernelspec": {
   "display_name": "Python 3 (ipykernel)",
   "language": "python",
   "name": "python3"
  },
  "language_info": {
   "codemirror_mode": {
    "name": "ipython",
    "version": 3
   },
   "file_extension": ".py",
   "mimetype": "text/x-python",
   "name": "python",
   "nbconvert_exporter": "python",
   "pygments_lexer": "ipython3",
   "version": "3.7.6"
  }
 },
 "nbformat": 4,
 "nbformat_minor": 5
}
